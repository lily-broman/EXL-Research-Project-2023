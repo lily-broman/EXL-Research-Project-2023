{
 "cells": [
  {
   "cell_type": "code",
   "execution_count": 1,
   "id": "ca65bfab",
   "metadata": {},
   "outputs": [],
   "source": [
    "import pandas as pd\n",
    "d=pd.read_csv(\"C:\\\\Users\\\\LilyB\\Desktop\\\\Household recycling.csv\")\n",
    "df=pd.DataFrame(d)"
   ]
  },
  {
   "cell_type": "code",
   "execution_count": 2,
   "id": "d90f8e09",
   "metadata": {},
   "outputs": [
    {
     "name": "stdout",
     "output_type": "stream",
     "text": [
      "          Code                  Area     Year  Recycling_Rates\n",
      "0    E09000001        City of London  2003/04                8\n",
      "1    E09000002  Barking and Dagenham  2003/04                5\n",
      "2    E09000003                Barnet  2003/04               16\n",
      "3    E09000004                Bexley  2003/04               21\n",
      "4    E09000005                 Brent  2003/04               10\n",
      "..         ...                   ...      ...              ...\n",
      "812  E12000006                  East  2021/22               46\n",
      "813  E12000007                London  2021/22               33\n",
      "814  E12000008            South East  2021/22               46\n",
      "815  E12000009            South West  2021/22               49\n",
      "816  E92000001               England  2021/22               43\n",
      "\n",
      "[817 rows x 4 columns]\n"
     ]
    }
   ],
   "source": [
    "print(df)"
   ]
  },
  {
   "cell_type": "code",
   "execution_count": 3,
   "id": "a0cf8732",
   "metadata": {},
   "outputs": [
    {
     "data": {
      "text/html": [
       "<div>\n",
       "<style scoped>\n",
       "    .dataframe tbody tr th:only-of-type {\n",
       "        vertical-align: middle;\n",
       "    }\n",
       "\n",
       "    .dataframe tbody tr th {\n",
       "        vertical-align: top;\n",
       "    }\n",
       "\n",
       "    .dataframe thead th {\n",
       "        text-align: right;\n",
       "    }\n",
       "</style>\n",
       "<table border=\"1\" class=\"dataframe\">\n",
       "  <thead>\n",
       "    <tr style=\"text-align: right;\">\n",
       "      <th></th>\n",
       "      <th>Code</th>\n",
       "      <th>Area</th>\n",
       "      <th>Year</th>\n",
       "      <th>Recycling_Rates</th>\n",
       "    </tr>\n",
       "  </thead>\n",
       "  <tbody>\n",
       "    <tr>\n",
       "      <th>0</th>\n",
       "      <td>E09000001</td>\n",
       "      <td>City of London</td>\n",
       "      <td>2003/04</td>\n",
       "      <td>8</td>\n",
       "    </tr>\n",
       "    <tr>\n",
       "      <th>1</th>\n",
       "      <td>E09000002</td>\n",
       "      <td>Barking and Dagenham</td>\n",
       "      <td>2003/04</td>\n",
       "      <td>5</td>\n",
       "    </tr>\n",
       "    <tr>\n",
       "      <th>2</th>\n",
       "      <td>E09000003</td>\n",
       "      <td>Barnet</td>\n",
       "      <td>2003/04</td>\n",
       "      <td>16</td>\n",
       "    </tr>\n",
       "    <tr>\n",
       "      <th>3</th>\n",
       "      <td>E09000004</td>\n",
       "      <td>Bexley</td>\n",
       "      <td>2003/04</td>\n",
       "      <td>21</td>\n",
       "    </tr>\n",
       "    <tr>\n",
       "      <th>4</th>\n",
       "      <td>E09000005</td>\n",
       "      <td>Brent</td>\n",
       "      <td>2003/04</td>\n",
       "      <td>10</td>\n",
       "    </tr>\n",
       "    <tr>\n",
       "      <th>...</th>\n",
       "      <td>...</td>\n",
       "      <td>...</td>\n",
       "      <td>...</td>\n",
       "      <td>...</td>\n",
       "    </tr>\n",
       "    <tr>\n",
       "      <th>812</th>\n",
       "      <td>E12000006</td>\n",
       "      <td>East</td>\n",
       "      <td>2021/22</td>\n",
       "      <td>46</td>\n",
       "    </tr>\n",
       "    <tr>\n",
       "      <th>813</th>\n",
       "      <td>E12000007</td>\n",
       "      <td>London</td>\n",
       "      <td>2021/22</td>\n",
       "      <td>33</td>\n",
       "    </tr>\n",
       "    <tr>\n",
       "      <th>814</th>\n",
       "      <td>E12000008</td>\n",
       "      <td>South East</td>\n",
       "      <td>2021/22</td>\n",
       "      <td>46</td>\n",
       "    </tr>\n",
       "    <tr>\n",
       "      <th>815</th>\n",
       "      <td>E12000009</td>\n",
       "      <td>South West</td>\n",
       "      <td>2021/22</td>\n",
       "      <td>49</td>\n",
       "    </tr>\n",
       "    <tr>\n",
       "      <th>816</th>\n",
       "      <td>E92000001</td>\n",
       "      <td>England</td>\n",
       "      <td>2021/22</td>\n",
       "      <td>43</td>\n",
       "    </tr>\n",
       "  </tbody>\n",
       "</table>\n",
       "<p>817 rows × 4 columns</p>\n",
       "</div>"
      ],
      "text/plain": [
       "          Code                  Area     Year  Recycling_Rates\n",
       "0    E09000001        City of London  2003/04                8\n",
       "1    E09000002  Barking and Dagenham  2003/04                5\n",
       "2    E09000003                Barnet  2003/04               16\n",
       "3    E09000004                Bexley  2003/04               21\n",
       "4    E09000005                 Brent  2003/04               10\n",
       "..         ...                   ...      ...              ...\n",
       "812  E12000006                  East  2021/22               46\n",
       "813  E12000007                London  2021/22               33\n",
       "814  E12000008            South East  2021/22               46\n",
       "815  E12000009            South West  2021/22               49\n",
       "816  E92000001               England  2021/22               43\n",
       "\n",
       "[817 rows x 4 columns]"
      ]
     },
     "metadata": {},
     "output_type": "display_data"
    }
   ],
   "source": [
    "display(df)"
   ]
  },
  {
   "cell_type": "code",
   "execution_count": null,
   "id": "42f65a57",
   "metadata": {},
   "outputs": [],
   "source": []
  }
 ],
 "metadata": {
  "kernelspec": {
   "display_name": "Python 3 (ipykernel)",
   "language": "python",
   "name": "python3"
  },
  "language_info": {
   "codemirror_mode": {
    "name": "ipython",
    "version": 3
   },
   "file_extension": ".py",
   "mimetype": "text/x-python",
   "name": "python",
   "nbconvert_exporter": "python",
   "pygments_lexer": "ipython3",
   "version": "3.10.9"
  }
 },
 "nbformat": 4,
 "nbformat_minor": 5
}
