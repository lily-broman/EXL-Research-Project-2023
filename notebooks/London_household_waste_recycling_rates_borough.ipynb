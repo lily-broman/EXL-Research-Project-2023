{
 "cells": [
  {
   "cell_type": "code",
   "execution_count": 9,
   "id": "ca65bfab",
   "metadata": {
    "scrolled": true
   },
   "outputs": [
    {
     "data": {
      "text/html": [
       "<div>\n",
       "<style scoped>\n",
       "    .dataframe tbody tr th:only-of-type {\n",
       "        vertical-align: middle;\n",
       "    }\n",
       "\n",
       "    .dataframe tbody tr th {\n",
       "        vertical-align: top;\n",
       "    }\n",
       "\n",
       "    .dataframe thead th {\n",
       "        text-align: right;\n",
       "    }\n",
       "</style>\n",
       "<table border=\"1\" class=\"dataframe\">\n",
       "  <thead>\n",
       "    <tr style=\"text-align: right;\">\n",
       "      <th></th>\n",
       "      <th>Code</th>\n",
       "      <th>Area</th>\n",
       "      <th>Year</th>\n",
       "      <th>Recycling_Rates</th>\n",
       "    </tr>\n",
       "  </thead>\n",
       "  <tbody>\n",
       "    <tr>\n",
       "      <th>0</th>\n",
       "      <td>E09000001</td>\n",
       "      <td>City of London</td>\n",
       "      <td>2003/04</td>\n",
       "      <td>8</td>\n",
       "    </tr>\n",
       "    <tr>\n",
       "      <th>1</th>\n",
       "      <td>E09000002</td>\n",
       "      <td>Barking and Dagenham</td>\n",
       "      <td>2003/04</td>\n",
       "      <td>5</td>\n",
       "    </tr>\n",
       "    <tr>\n",
       "      <th>2</th>\n",
       "      <td>E09000003</td>\n",
       "      <td>Barnet</td>\n",
       "      <td>2003/04</td>\n",
       "      <td>16</td>\n",
       "    </tr>\n",
       "    <tr>\n",
       "      <th>3</th>\n",
       "      <td>E09000004</td>\n",
       "      <td>Bexley</td>\n",
       "      <td>2003/04</td>\n",
       "      <td>21</td>\n",
       "    </tr>\n",
       "    <tr>\n",
       "      <th>4</th>\n",
       "      <td>E09000005</td>\n",
       "      <td>Brent</td>\n",
       "      <td>2003/04</td>\n",
       "      <td>10</td>\n",
       "    </tr>\n",
       "  </tbody>\n",
       "</table>\n",
       "</div>"
      ],
      "text/plain": [
       "        Code                  Area     Year  Recycling_Rates\n",
       "0  E09000001        City of London  2003/04                8\n",
       "1  E09000002  Barking and Dagenham  2003/04                5\n",
       "2  E09000003                Barnet  2003/04               16\n",
       "3  E09000004                Bexley  2003/04               21\n",
       "4  E09000005                 Brent  2003/04               10"
      ]
     },
     "metadata": {},
     "output_type": "display_data"
    },
    {
     "name": "stdout",
     "output_type": "stream",
     "text": [
      "(817, 4)\n"
     ]
    },
    {
     "data": {
      "text/plain": [
       "'\\n\\nThe recycling rate is calculated as set out below.\\n\\nFor Waste Collection Authorities (WCA) and Unitary Authorities (UA):\\nX/Y x 100, where:\\nX = Tonnage (weight in tons) of household waste collected by the WCA or UA which is sent for recycling/composting \\n    (including private/voluntary collections of household waste for recycling)\\nY = Total tonnage of household waste collected by the WCA or UA \\n    (including private/voluntary collections of household waste for recycling)\\n\\n'"
      ]
     },
     "execution_count": 9,
     "metadata": {},
     "output_type": "execute_result"
    }
   ],
   "source": [
    "import matplotlib.pyplot as plt\n",
    "import numpy as np\n",
    "import pandas as pd\n",
    "d=pd.read_csv(\"C:\\\\Users\\\\LilyB\\Desktop\\\\Household recycling.csv\")\n",
    "df=pd.DataFrame(d)\n",
    "\n",
    "display(df.head())\n",
    "print(df.shape)\n",
    "\n",
    "\n",
    "\n",
    "\"\"\"\n",
    "\n",
    "The recycling rate is calculated as set out below.\n",
    "\n",
    "For Waste Collection Authorities (WCA) and Unitary Authorities (UA):\n",
    "X/Y x 100, where:\n",
    "X = Tonnage (weight in tons) of household waste collected by the WCA or UA which is sent for recycling/composting \n",
    "    (including private/voluntary collections of household waste for recycling)\n",
    "Y = Total tonnage of household waste collected by the WCA or UA \n",
    "    (including private/voluntary collections of household waste for recycling)\n",
    "\n",
    "\"\"\"\n"
   ]
  },
  {
   "cell_type": "code",
   "execution_count": 11,
   "id": "f3320283",
   "metadata": {},
   "outputs": [
    {
     "name": "stdout",
     "output_type": "stream",
     "text": [
      "Mean: 31.769889840881273\n",
      "Median: 32.0\n",
      "Outliers of array: []\n"
     ]
    }
   ],
   "source": [
    "#Takes the total mean and median recycling rates\n",
    "recycling_rates = df['Recycling_Rates']\n",
    "\n",
    "print('Mean:',recycling_rates.mean())\n",
    "print('Median:',recycling_rates.median())\n",
    "\n",
    "#Calculates the interquartile range (IQR)\n",
    "from scipy.stats import iqr\n",
    "\n",
    "IQR = iqr(recycling_rates)\n",
    "\n",
    "#Caculates the 1st (Q1) and 3rd (Q3) quartile      \n",
    "q1=(np.quantile(recycling_rates,0.25))\n",
    "q3=(np.quantile(recycling_rates,0.75))\n",
    "\n",
    "#Calculates the outliers among the recycling rate array \n",
    "data = np.array(recycling_rates)\n",
    "\n",
    "threshold= 1.5 * IQR\n",
    "outliers = np.where((data < q1 - threshold) | (data > q3 + threshold))\n",
    "print(\"Outliers of array:\", np.sort(data[outliers]))"
   ]
  }
 ],
 "metadata": {
  "kernelspec": {
   "display_name": "Python 3 (ipykernel)",
   "language": "python",
   "name": "python3"
  },
  "language_info": {
   "codemirror_mode": {
    "name": "ipython",
    "version": 3
   },
   "file_extension": ".py",
   "mimetype": "text/x-python",
   "name": "python",
   "nbconvert_exporter": "python",
   "pygments_lexer": "ipython3",
   "version": "3.10.9"
  }
 },
 "nbformat": 4,
 "nbformat_minor": 5
}
