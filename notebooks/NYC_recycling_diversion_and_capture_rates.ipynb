{
 "cells": [
  {
   "cell_type": "code",
   "execution_count": 1,
   "id": "acea0518",
   "metadata": {},
   "outputs": [],
   "source": [
    "import pandas as pd\n",
    "d=pd.read_csv(\"C:\\\\Users\\\\LilyB\\Desktop\\\\recycling-diversion-and-capture-rates.csv\")\n",
    "df=pd.DataFrame(d)"
   ]
  },
  {
   "cell_type": "code",
   "execution_count": 2,
   "id": "89a88a66",
   "metadata": {
    "scrolled": true
   },
   "outputs": [
    {
     "data": {
      "text/html": [
       "<div>\n",
       "<style scoped>\n",
       "    .dataframe tbody tr th:only-of-type {\n",
       "        vertical-align: middle;\n",
       "    }\n",
       "\n",
       "    .dataframe tbody tr th {\n",
       "        vertical-align: top;\n",
       "    }\n",
       "\n",
       "    .dataframe thead th {\n",
       "        text-align: right;\n",
       "    }\n",
       "</style>\n",
       "<table border=\"1\" class=\"dataframe\">\n",
       "  <thead>\n",
       "    <tr style=\"text-align: right;\">\n",
       "      <th></th>\n",
       "      <th>Zone</th>\n",
       "      <th>District</th>\n",
       "      <th>Fiscal Month Number</th>\n",
       "      <th>Fiscal Year</th>\n",
       "      <th>Month Name</th>\n",
       "      <th>Diversion Rate-Total (Total Recycling / Total Waste)</th>\n",
       "      <th>Capture Rate-Paper (Total Paper / Max Paper)</th>\n",
       "      <th>Capture Rate-MGP (Total MGP / Max MGP)</th>\n",
       "      <th>Capture Rate-Total ((Total Recycling - Leaves (Recycling)) / (Max Paper + Max MGP))x100</th>\n",
       "    </tr>\n",
       "  </thead>\n",
       "  <tbody>\n",
       "    <tr>\n",
       "      <th>0</th>\n",
       "      <td>Brooklyn North</td>\n",
       "      <td>BKN01</td>\n",
       "      <td>10</td>\n",
       "      <td>2019</td>\n",
       "      <td>April</td>\n",
       "      <td>14.687093</td>\n",
       "      <td>44.909160</td>\n",
       "      <td>43.034062</td>\n",
       "      <td>44.146764</td>\n",
       "    </tr>\n",
       "    <tr>\n",
       "      <th>1</th>\n",
       "      <td>Brooklyn North</td>\n",
       "      <td>BKN02</td>\n",
       "      <td>10</td>\n",
       "      <td>2019</td>\n",
       "      <td>April</td>\n",
       "      <td>19.950181</td>\n",
       "      <td>34.194020</td>\n",
       "      <td>57.947031</td>\n",
       "      <td>41.213700</td>\n",
       "    </tr>\n",
       "    <tr>\n",
       "      <th>2</th>\n",
       "      <td>Brooklyn North</td>\n",
       "      <td>BKN03</td>\n",
       "      <td>10</td>\n",
       "      <td>2019</td>\n",
       "      <td>April</td>\n",
       "      <td>12.164161</td>\n",
       "      <td>33.521557</td>\n",
       "      <td>44.919731</td>\n",
       "      <td>38.155937</td>\n",
       "    </tr>\n",
       "    <tr>\n",
       "      <th>3</th>\n",
       "      <td>Brooklyn North</td>\n",
       "      <td>BKN04</td>\n",
       "      <td>10</td>\n",
       "      <td>2019</td>\n",
       "      <td>April</td>\n",
       "      <td>15.541803</td>\n",
       "      <td>35.211361</td>\n",
       "      <td>68.511260</td>\n",
       "      <td>48.750755</td>\n",
       "    </tr>\n",
       "    <tr>\n",
       "      <th>4</th>\n",
       "      <td>Brooklyn North</td>\n",
       "      <td>BKN05</td>\n",
       "      <td>10</td>\n",
       "      <td>2019</td>\n",
       "      <td>April</td>\n",
       "      <td>10.051845</td>\n",
       "      <td>22.265430</td>\n",
       "      <td>45.051791</td>\n",
       "      <td>31.530129</td>\n",
       "    </tr>\n",
       "  </tbody>\n",
       "</table>\n",
       "</div>"
      ],
      "text/plain": [
       "             Zone District  Fiscal Month Number  Fiscal Year Month Name  \\\n",
       "0  Brooklyn North    BKN01                   10         2019      April   \n",
       "1  Brooklyn North    BKN02                   10         2019      April   \n",
       "2  Brooklyn North    BKN03                   10         2019      April   \n",
       "3  Brooklyn North    BKN04                   10         2019      April   \n",
       "4  Brooklyn North    BKN05                   10         2019      April   \n",
       "\n",
       "   Diversion Rate-Total (Total Recycling / Total Waste)  \\\n",
       "0                                          14.687093      \n",
       "1                                          19.950181      \n",
       "2                                          12.164161      \n",
       "3                                          15.541803      \n",
       "4                                          10.051845      \n",
       "\n",
       "   Capture Rate-Paper (Total Paper / Max Paper)  \\\n",
       "0                                     44.909160   \n",
       "1                                     34.194020   \n",
       "2                                     33.521557   \n",
       "3                                     35.211361   \n",
       "4                                     22.265430   \n",
       "\n",
       "   Capture Rate-MGP (Total MGP / Max MGP)  \\\n",
       "0                               43.034062   \n",
       "1                               57.947031   \n",
       "2                               44.919731   \n",
       "3                               68.511260   \n",
       "4                               45.051791   \n",
       "\n",
       "   Capture Rate-Total ((Total Recycling - Leaves (Recycling)) / (Max Paper + Max MGP))x100  \n",
       "0                                          44.146764                                        \n",
       "1                                          41.213700                                        \n",
       "2                                          38.155937                                        \n",
       "3                                          48.750755                                        \n",
       "4                                          31.530129                                        "
      ]
     },
     "metadata": {},
     "output_type": "display_data"
    },
    {
     "name": "stdout",
     "output_type": "stream",
     "text": [
      "(2832, 9)\n"
     ]
    },
    {
     "data": {
      "text/plain": [
       "'\\n*Diversion rate (percentage of total municipal solid waste collected by the Department of Sanitation \\n    that is disposed of by recycling)\\n\\n*Capture Rate (percentage of total Paper or Metal/Glass/Plastic in the waste stream that is disposed of by recycling)\\n\\n*Capture rate is the amount of materials set out for residential recycling collection as a percentage of designated recyclable \\n    materials in both recycling and refuse streams. \\n*This ratio measures how much of the targeted materials are actually being recycled, which is a measure of \\n    how successfully such materials are recycled.\\n\\n'"
      ]
     },
     "execution_count": 2,
     "metadata": {},
     "output_type": "execute_result"
    }
   ],
   "source": [
    "import matplotlib.pyplot as plt\n",
    "import numpy as np\n",
    "import pandas as pd\n",
    "import sys\n",
    "d=pd.read_csv(\"C:\\\\Users\\\\LilyB\\Desktop\\\\recycling-diversion-and-capture-rates.csv\")\n",
    "df=pd.DataFrame(d)\n",
    "\n",
    "display(df.head())\n",
    "print(df.shape)\n",
    "\n",
    "\"\"\"\n",
    "*Diversion rate (percentage of total municipal solid waste collected by the Department of Sanitation \n",
    "    that is disposed of by recycling)\n",
    "\n",
    "*Capture Rate (percentage of total Paper or Metal/Glass/Plastic in the waste stream that is disposed of by recycling)\n",
    "\n",
    "*Capture rate is the amount of materials set out for residential recycling collection as a percentage of designated recyclable \n",
    "    materials in both recycling and refuse streams. \n",
    "*This ratio measures how much of the targeted materials are actually being recycled, which is a measure of \n",
    "    how successfully such materials are recycled.\n",
    "\n",
    "\"\"\"\n",
    "\n"
   ]
  },
  {
   "cell_type": "code",
   "execution_count": 3,
   "id": "91864ec1",
   "metadata": {},
   "outputs": [
    {
     "name": "stdout",
     "output_type": "stream",
     "text": [
      "Mean: 17.48402440051608\n",
      "Median: 16.88714999813185\n",
      "Outliers of array: [32.76639293 33.14993154 33.75441541]\n"
     ]
    }
   ],
   "source": [
    "#Takes the total mean and median of recycables collected from waste \n",
    "diversion_rate = df[\"Diversion Rate-Total (Total Recycling / Total Waste)\"]\n",
    "\n",
    "print('Mean:',diversion_rate.mean())\n",
    "print('Median:',diversion_rate.median())\n",
    "\n",
    "#Calculates the interquartile range (IQR)\n",
    "from scipy.stats import iqr\n",
    "\n",
    "IQR = iqr(diversion_rate)\n",
    "\n",
    "#Caculates the 1st (Q1) and 3rd (Q3) quartile      \n",
    "q1=(np.quantile(diversion_rate,0.25))\n",
    "q3=(np.quantile(diversion_rate,0.75))\n",
    "\n",
    "#Calculates the outliers among the diversion rate array \n",
    "data = np.array(diversion_rate)\n",
    "\n",
    "threshold= 1.5 * IQR\n",
    "outliers = np.where((data < q1 - threshold) | (data > q3 + threshold))\n",
    "print(\"Outliers of array:\", np.sort(data[outliers]))"
   ]
  },
  {
   "cell_type": "code",
   "execution_count": 4,
   "id": "6c056e42",
   "metadata": {},
   "outputs": [
    {
     "name": "stdout",
     "output_type": "stream",
     "text": [
      "Mean: 38.43022417704809\n",
      "Median: 37.757412044136146\n",
      "Outliers of array: [65.21357669 67.36688266 72.59384028]\n"
     ]
    }
   ],
   "source": [
    "#Takes the total mean and median of the capture rate of paper\n",
    "capture_rate_paper = df['Capture Rate-Paper (Total Paper / Max Paper)']\n",
    "\n",
    "print('Mean:',capture_rate_paper.mean())\n",
    "print('Median:',capture_rate_paper.median())\n",
    "\n",
    "#Calculates the interquartile range (IQR)\n",
    "from scipy.stats import iqr\n",
    "\n",
    "IQR = iqr(capture_rate_paper)\n",
    "\n",
    "#Caculates the 1st (Q1) and 3rd (Q3) quartile      \n",
    "q1=(np.quantile(capture_rate_paper,0.25))\n",
    "q3=(np.quantile(capture_rate_paper,0.75))\n",
    "\n",
    "#Calculates the outliers among the capture rate of paper array \n",
    "data = np.array(capture_rate_paper)\n",
    "\n",
    "threshold= 1.5 * IQR\n",
    "outliers = np.where((data < q1 - threshold) | (data > q3 + threshold))\n",
    "print(\"Outliers of array:\", np.sort(data[outliers]))"
   ]
  },
  {
   "cell_type": "code",
   "execution_count": 5,
   "id": "8e4de06a",
   "metadata": {},
   "outputs": [
    {
     "name": "stdout",
     "output_type": "stream",
     "text": [
      "Mean: 61.22426331456263\n",
      "Median: 61.610488039174896\n",
      "Outliers of array: []\n"
     ]
    }
   ],
   "source": [
    "#Takes the total mean and median of the capture rate of metal, glass, plastic (MGP)\n",
    "capture_rate_MGP = df['Capture Rate-MGP (Total MGP / Max MGP)']\n",
    "\n",
    "print('Mean:',capture_rate_MGP.mean())\n",
    "print('Median:',capture_rate_MGP.median())\n",
    "\n",
    "#Calculates the interquartile range (IQR)\n",
    "from scipy.stats import iqr\n",
    "\n",
    "IQR = iqr(capture_rate_MGP)\n",
    "\n",
    "#Caculates the 1st (Q1) and 3rd (Q3) quartile      \n",
    "q1=(np.quantile(capture_rate_MGP,0.25))\n",
    "q3=(np.quantile(capture_rate_MGP,0.75))\n",
    "\n",
    "#Calculates the outliers among the capture rate of MGP array \n",
    "data = np.array(capture_rate_MGP)\n",
    "\n",
    "threshold= 1.5 * IQR\n",
    "outliers = np.where((data < q1 - threshold) | (data > q3 + threshold))\n",
    "print(\"Outliers of array:\", np.sort(data[outliers]))"
   ]
  },
  {
   "cell_type": "code",
   "execution_count": 6,
   "id": "eeb677a8",
   "metadata": {},
   "outputs": [
    {
     "name": "stdout",
     "output_type": "stream",
     "text": [
      "Mean: 46.158227700961206\n",
      "Median: 46.31051677665225\n",
      "Outliers of array: [18.49133542 19.02315178 19.4481428  20.00599308 20.22763354 72.66520846\n",
      " 72.71729699 73.21243722 73.27468959 73.97775693 74.1668333  75.26127567\n",
      " 75.52236469]\n"
     ]
    }
   ],
   "source": [
    "#Takes the total mean and median of the capture rate total\n",
    "capture_rate_total = df['Capture Rate-Total ((Total Recycling - Leaves (Recycling)) / (Max Paper + Max MGP))x100']\n",
    "\n",
    "print('Mean:',capture_rate_total.mean())\n",
    "print('Median:',capture_rate_total.median())\n",
    "\n",
    "#Calculates the interquartile range (IQR)\n",
    "from scipy.stats import iqr\n",
    "\n",
    "IQR = iqr(capture_rate_total)\n",
    "\n",
    "#Caculates the 1st (Q1) and 3rd (Q3) quartile      \n",
    "q1=(np.quantile(capture_rate_total,0.25))\n",
    "q3=(np.quantile(capture_rate_total,0.75))\n",
    "\n",
    "#Calculates the outliers among the capture rate of total array \n",
    "data = np.array(capture_rate_total)\n",
    "\n",
    "threshold= 1.5 * IQR\n",
    "outliers = np.where((data < q1 - threshold) | (data > q3 + threshold))\n",
    "print(\"Outliers of array:\", np.sort(data[outliers]))"
   ]
  }
 ],
 "metadata": {
  "kernelspec": {
   "display_name": "Python 3 (ipykernel)",
   "language": "python",
   "name": "python3"
  },
  "language_info": {
   "codemirror_mode": {
    "name": "ipython",
    "version": 3
   },
   "file_extension": ".py",
   "mimetype": "text/x-python",
   "name": "python",
   "nbconvert_exporter": "python",
   "pygments_lexer": "ipython3",
   "version": "3.10.9"
  }
 },
 "nbformat": 4,
 "nbformat_minor": 5
}
